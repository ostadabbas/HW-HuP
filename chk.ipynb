{
 "cells": [
  {
   "cell_type": "code",
   "execution_count": 3,
   "metadata": {
    "collapsed": true,
    "pycharm": {
     "name": "#%%\n",
     "is_executing": false
    }
   },
   "outputs": [],
   "source": [
    "'''\n",
    "check the 3DPW dataset \n",
    "'''\n",
    "import os\n",
    "import cv2\n",
    "import numpy as np\n",
    "import pickle\n",
    "import argparse\n",
    "import matplotlib.pyplot as plt \n",
    "from mpl_toolkits.mplot3d import Axes3D\n",
    "\n",
    "\n",
    "dataset_path = r'S:\\ACLab\\datasets\\3DPW'    # local \n",
    "dataset_path = os.path.join(dataset_path, 'sequenceFiles', 'test')\n",
    "files = [os.path.join(dataset_path, f)\n",
    "         for f in os.listdir(dataset_path) if f.endswith('.pkl')]\n",
    "filename = files[0]\n",
    "with open(filename, 'rb') as f:\n",
    "    data = pickle.load(f, encoding='latin1')\n",
    "    smpl_pose = data['poses']  # N x 72\n",
    "    smpl_betas = data['betas']\n",
    "    poses2d = data['poses2d']\n",
    "    global_poses = data['cam_poses']\n",
    "    genders = data['genders']\n",
    "    valid = np.array(data['campose_valid']).astype(\n",
    "        np.bool)  # indicate which cam pose aligned to image , maybe 0 failed\n",
    "    num_people = len(smpl_pose)\n",
    "    num_frames = len(smpl_pose[0])\n",
    "    seq_name = str(data['sequence'])\n",
    "    img_names = np.array(['imageFiles/' + seq_name + '/image_%s.jpg' % str(i).zfill(5) for i in range(num_frames)])\n",
    "    cam_intrinsics = data['cam_intrinsics']\n",
    "    jointPositions = data['jointPositions']  # 24 x 3  xyz"
   ]
  },
  {
   "cell_type": "code",
   "execution_count": 10,
   "outputs": [
    {
     "name": "stdout",
     "text": [
      "cam intrinsics\n[[1.96923077e+03 0.00000000e+00 9.60000000e+02]\n [0.00000000e+00 1.96185286e+03 5.40000000e+02]\n [0.00000000e+00 0.00000000e+00 1.00000000e+00]]\nsubj0 and subj2\n[[ 0.54854517  0.65308058  0.29526967]\n [ 0.6067764   0.56833399  0.27412834]\n [ 0.48159859  0.56350798  0.28449615]\n [ 0.55498663  0.77958438  0.25543452]\n [ 0.61404759  0.16420403  0.26439937]\n [ 0.44535142  0.16155147  0.29119098]\n [ 0.55728512  0.91475461  0.27563103]\n [ 0.58034389 -0.28074045  0.19585223]\n [ 0.4740886  -0.2790132   0.23387573]\n [ 0.55221668  0.9688483   0.27721202]\n [ 0.59704333 -0.35163906  0.32158254]\n [ 0.47769424 -0.35091736  0.36820347]\n [ 0.5279714   1.18027207  0.23815653]\n [ 0.62265203  1.0875331   0.25342614]\n [ 0.45888629  1.07900055  0.25556381]\n [ 0.55096959  1.27026217  0.27748203]\n [ 0.75334397  1.10617265  0.29522139]\n [ 0.34951907  1.10034164  0.3208684 ]\n [ 0.75715719  0.83855337  0.27639662]\n [ 0.32051563  0.8264512   0.33110742]\n [ 0.7838267   0.56306853  0.28701458]\n [ 0.3204783   0.55215149  0.38881944]\n [ 0.79579852  0.47362757  0.28273736]\n [ 0.31783799  0.46145717  0.40248019]]\n[[ 1.16280432  0.57072785  0.36254465]\n [ 1.22334028  0.49210257  0.34549975]\n [ 1.10892521  0.4828959   0.32892796]\n [ 1.1712535   0.69675134  0.34241298]\n [ 1.24119319  0.10898286  0.32179538]\n [ 1.09850173  0.10346171  0.30231944]\n [ 1.17091908  0.82867503  0.37816609]\n [ 1.20266968 -0.298096    0.2305882 ]\n [ 1.13491701 -0.30430152  0.25659314]\n [ 1.16813444  0.8822972   0.38546663]\n [ 1.19665849 -0.37188808  0.34720675]\n [ 1.08329701 -0.37161924  0.37313161]\n [ 1.15649394  1.08572676  0.37389571]\n [ 1.23482741  0.99250932  0.38647578]\n [ 1.0943134   0.99261957  0.36396098]\n [ 1.16592525  1.17517859  0.41432778]\n [ 1.35373787  0.99378694  0.41732496]\n [ 0.98291881  0.99428745  0.37859   ]\n [ 1.36007263  0.7532592   0.37578887]\n [ 0.97120333  0.75254394  0.33335724]\n [ 1.3740072   0.50042642  0.37810354]\n [ 0.97156252  0.49629645  0.34036659]\n [ 1.3839418   0.41629727  0.37640188]\n [ 0.96943717  0.4111171   0.33999056]]\nnum frames 898\nnum of j3d 898\n"
     ],
     "output_type": "stream"
    }
   ],
   "source": [
    "idx_frm = 0 \n",
    "print('cam intrinsics')\n",
    "print(cam_intrinsics) # intrinsics\n",
    "print('subj0 and subj2') \n",
    "jt0 = jointPositions[0][idx_frm].reshape([-1,3]) \n",
    "jt1 = jointPositions[1][idx_frm].reshape([-1,3])\n",
    "print(jt0)\n",
    "print(jt1)\n",
    "\n",
    "print('num frames', num_frames)\n",
    "print('num of j3d', len(jointPositions[0]))"
   ],
   "metadata": {
    "collapsed": false,
    "pycharm": {
     "name": "#%% check data\n",
     "is_executing": false
    }
   }
  },
  {
   "cell_type": "code",
   "execution_count": 11,
   "outputs": [
    {
     "name": "stdout",
     "text": [
      "after 400 frames\n[[-0.4924076   0.18487712 -0.12158793]\n [-0.47835399  0.09712788 -0.17746622]\n [-0.54164353  0.09874743 -0.06887489]\n [-0.5184353   0.31059591 -0.15548317]\n [-0.47761398 -0.3060678  -0.20748696]\n [-0.57275992 -0.30084314 -0.02105384]\n [-0.49792265  0.44569607 -0.15885254]\n [-0.56340721 -0.74658142 -0.2564513 ]\n [-0.59880023 -0.7428527  -0.06750319]\n [-0.49634179  0.50001628 -0.15778897]\n [-0.44583107 -0.82442172 -0.22137519]\n [-0.497928   -0.81366489  0.02214934]\n [-0.52709428  0.71390038 -0.16879129]\n [-0.47237457  0.61307184 -0.23689017]\n [-0.55459998  0.61828314 -0.09508603]\n [-0.48336761  0.80393396 -0.15631884]\n [-0.45399644  0.65183957 -0.3685487 ]\n [-0.61513851  0.6504848   0.01436469]\n [-0.50882711  0.43080764 -0.51042004]\n [-0.71229068  0.39659667  0.05979905]\n [-0.43905108  0.25303662 -0.71103078]\n [-0.68841227  0.15010352  0.19110769]\n [-0.41313305  0.20540926 -0.78328862]\n [-0.67967388  0.07421128  0.24193145]]\n[[ 0.59575571  0.12123519  0.1860229 ]\n [ 0.61099643  0.04657658  0.25183232]\n [ 0.61845147  0.02686458  0.13778823]\n [ 0.62616961  0.24541057  0.18227299]\n [ 0.61707578 -0.33514827  0.29554176]\n [ 0.64514983 -0.35212232  0.11673844]\n [ 0.60325044  0.37980276  0.17248995]\n [ 0.68008797 -0.74887613  0.27618374]\n [ 0.69187689 -0.76086066  0.13765191]\n [ 0.60475204  0.43348976  0.1652899 ]\n [ 0.56089656 -0.81536555  0.29748765]\n [ 0.57539253 -0.82629482  0.08354756]\n [ 0.65589422  0.62822913  0.13191284]\n [ 0.63668821  0.54558901  0.22014901]\n [ 0.63679146  0.53114952  0.0785771 ]\n [ 0.61257639  0.71539594  0.1477509 ]\n [ 0.66969177  0.6106131   0.31902082]\n [ 0.63005804  0.54914926 -0.03213069]\n [ 0.59280348  0.62704784  0.55018539]\n [ 0.62520403  0.30363536 -0.05009017]\n [ 0.52619162  0.78812489  0.73387257]\n [ 0.52262788  0.06999319 -0.07461579]\n [ 0.52057156  0.85078204  0.79063351]\n [ 0.48235087 -0.00311198 -0.09174985]]\n"
     ],
     "output_type": "stream"
    }
   ],
   "source": [
    "idx_frm = 400\n",
    "print('after 400 frames')\n",
    "jt0 = jointPositions[0][idx_frm].reshape([-1,3]) \n",
    "jt1 = jointPositions[1][idx_frm].reshape([-1,3])\n",
    "print(jt0)\n",
    "print(jt1)  # not too far away.. "
   ],
   "metadata": {
    "collapsed": false,
    "pycharm": {
     "name": "#%% after 400 frames \n",
     "is_executing": false
    }
   }
  },
  {
   "cell_type": "code",
   "execution_count": 5,
   "outputs": [
    {
     "name": "stdout",
     "text": [
      "(24, 3)\n"
     ],
     "output_type": "stream"
    }
   ],
   "source": [
    "print(jt0.shape)"
   ],
   "metadata": {
    "collapsed": false,
    "pycharm": {
     "name": "#%% \n",
     "is_executing": false
    }
   }
  },
  {
   "cell_type": "code",
   "execution_count": 9,
   "outputs": [],
   "source": [
    "%matplotlib qt\n",
    "\n",
    "fig = plt.figure()\n",
    "ax = Axes3D(fig)\n",
    "ax.cla()\n",
    "ax.scatter(jt0[:,0], jt0[:,1], jt0[:,2], c='r')\n",
    "ax.scatter(jt1[:,0], jt0[:,1], jt0[:,2], c='b')\n",
    "plt.xlabel('x')\n",
    "plt.ylabel('y')\n",
    "plt.show()"
   ],
   "metadata": {
    "collapsed": false,
    "pycharm": {
     "name": "#%% show the two people 3D pose\n",
     "is_executing": false
    }
   }
  },
  {
   "cell_type": "code",
   "execution_count": null,
   "outputs": [],
   "source": [
    "\n"
   ],
   "metadata": {
    "collapsed": false,
    "pycharm": {
     "name": "#%%\n",
     "is_executing": false
    }
   }
  }
 ],
 "metadata": {
  "kernelspec": {
   "display_name": "Python 3",
   "language": "python",
   "name": "python3"
  },
  "language_info": {
   "codemirror_mode": {
    "name": "ipython",
    "version": 2
   },
   "file_extension": ".py",
   "mimetype": "text/x-python",
   "name": "python",
   "nbconvert_exporter": "python",
   "pygments_lexer": "ipython2",
   "version": "2.7.6"
  },
  "pycharm": {
   "stem_cell": {
    "cell_type": "raw",
    "source": [],
    "metadata": {
     "collapsed": false
    }
   }
  }
 },
 "nbformat": 4,
 "nbformat_minor": 0
}